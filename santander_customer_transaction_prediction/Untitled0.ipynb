{
  "nbformat": 4,
  "nbformat_minor": 0,
  "metadata": {
    "colab": {
      "name": "Untitled0.ipynb",
      "version": "0.3.2",
      "provenance": [],
      "collapsed_sections": []
    },
    "kernelspec": {
      "name": "python3",
      "display_name": "Python 3"
    },
    "accelerator": "GPU"
  },
  "cells": [
    {
      "metadata": {
        "id": "in7-xPPhxZG5",
        "colab_type": "code",
        "colab": {
          "base_uri": "https://localhost:8080/",
          "height": 34
        },
        "outputId": "ddc60634-0f85-4f92-e768-baa610f5300a"
      },
      "cell_type": "code",
      "source": [
        "import tensorflow as tf\n",
        "import pandas as pd\n",
        "from keras import Sequential\n",
        "from keras import layers\n",
        "from sklearn.model_selection import train_test_split"
      ],
      "execution_count": 1,
      "outputs": [
        {
          "output_type": "stream",
          "text": [
            "Using TensorFlow backend.\n"
          ],
          "name": "stderr"
        }
      ]
    },
    {
      "metadata": {
        "id": "bjbIKXtkxbhu",
        "colab_type": "code",
        "colab": {
          "base_uri": "https://localhost:8080/",
          "height": 122
        },
        "outputId": "8052f555-23d3-4554-fcc3-543cc5a89c3e"
      },
      "cell_type": "code",
      "source": [
        "from google.colab import drive\n",
        "drive.mount('/content/drive/')"
      ],
      "execution_count": 2,
      "outputs": [
        {
          "output_type": "stream",
          "text": [
            "Go to this URL in a browser: https://accounts.google.com/o/oauth2/auth?client_id=947318989803-6bn6qk8qdgf4n4g3pfee6491hc0brc4i.apps.googleusercontent.com&redirect_uri=urn%3Aietf%3Awg%3Aoauth%3A2.0%3Aoob&scope=email%20https%3A%2F%2Fwww.googleapis.com%2Fauth%2Fdocs.test%20https%3A%2F%2Fwww.googleapis.com%2Fauth%2Fdrive%20https%3A%2F%2Fwww.googleapis.com%2Fauth%2Fdrive.photos.readonly%20https%3A%2F%2Fwww.googleapis.com%2Fauth%2Fpeopleapi.readonly&response_type=code\n",
            "\n",
            "Enter your authorization code:\n",
            "··········\n",
            "Mounted at /content/drive/\n"
          ],
          "name": "stdout"
        }
      ]
    },
    {
      "metadata": {
        "id": "X88BKY7yxvAG",
        "colab_type": "code",
        "colab": {
          "base_uri": "https://localhost:8080/",
          "height": 34
        },
        "outputId": "3759b30d-7279-4fb8-f8fb-f87bce3ec14c"
      },
      "cell_type": "code",
      "source": [
        "import os\n",
        "os.getcwd()"
      ],
      "execution_count": 3,
      "outputs": [
        {
          "output_type": "execute_result",
          "data": {
            "text/plain": [
              "'/content'"
            ]
          },
          "metadata": {
            "tags": []
          },
          "execution_count": 3
        }
      ]
    },
    {
      "metadata": {
        "id": "yozZlWFRxyNn",
        "colab_type": "code",
        "colab": {}
      },
      "cell_type": "code",
      "source": [
        "os.chdir('/content/drive/My Drive/Santander_Kaggle')"
      ],
      "execution_count": 0,
      "outputs": []
    },
    {
      "metadata": {
        "id": "JuU8OjMgx2Td",
        "colab_type": "code",
        "colab": {
          "base_uri": "https://localhost:8080/",
          "height": 85
        },
        "outputId": "36f702c8-8f63-4adc-b35f-680c1cf17364"
      },
      "cell_type": "code",
      "source": [
        "!ls"
      ],
      "execution_count": 5,
      "outputs": [
        {
          "output_type": "stream",
          "text": [
            "l3bs10drop10.csv\tsubmission_nn.csv\n",
            "l3bs20.csv\t\ttest.csv\n",
            "sample_submission.csv\ttrain.csv\n",
            "santander_kaggle.ipynb\tunits_200_hidden_1_regularized_drop10.csv\n"
          ],
          "name": "stdout"
        }
      ]
    },
    {
      "metadata": {
        "id": "_fn2IO5gx7NE",
        "colab_type": "code",
        "colab": {}
      },
      "cell_type": "code",
      "source": [
        "train = pd.read_csv('train.csv')"
      ],
      "execution_count": 0,
      "outputs": []
    },
    {
      "metadata": {
        "id": "tiKWxXH7x9YA",
        "colab_type": "code",
        "colab": {}
      },
      "cell_type": "code",
      "source": [
        "test = pd.read_csv('test.csv')"
      ],
      "execution_count": 0,
      "outputs": []
    },
    {
      "metadata": {
        "id": "3AVNGq880fpS",
        "colab_type": "code",
        "colab": {
          "base_uri": "https://localhost:8080/",
          "height": 85
        },
        "outputId": "e418d79e-67f0-4446-b440-28f69b40be77"
      },
      "cell_type": "code",
      "source": [
        "#Check num of cases in label \n",
        "print(train.target.value_counts())\n",
        "print(train.target.value_counts()[1]/train.target.value_counts()[0])"
      ],
      "execution_count": 8,
      "outputs": [
        {
          "output_type": "stream",
          "text": [
            "0    179902\n",
            "1     20098\n",
            "Name: target, dtype: int64\n",
            "0.1117163789174106\n"
          ],
          "name": "stdout"
        }
      ]
    },
    {
      "metadata": {
        "id": "pFsBTsI-xCSL",
        "colab_type": "code",
        "colab": {}
      },
      "cell_type": "code",
      "source": [
        "train_df, test_df = train_test_split(train, test_size = 0.25, random_state = 1984)"
      ],
      "execution_count": 0,
      "outputs": []
    },
    {
      "metadata": {
        "id": "Sn26sds5yIH2",
        "colab_type": "code",
        "colab": {
          "base_uri": "https://localhost:8080/",
          "height": 34
        },
        "outputId": "cda45323-4b70-4d99-bf21-1fe628d12ca7"
      },
      "cell_type": "code",
      "source": [
        "#Test - Make sure labels are equally distributed in train and test set\n",
        "train_df.target.sum()/train_df.shape[0]"
      ],
      "execution_count": 10,
      "outputs": [
        {
          "output_type": "execute_result",
          "data": {
            "text/plain": [
              "0.10054666666666667"
            ]
          },
          "metadata": {
            "tags": []
          },
          "execution_count": 10
        }
      ]
    },
    {
      "metadata": {
        "id": "3cSfwlSJyLLx",
        "colab_type": "code",
        "colab": {
          "base_uri": "https://localhost:8080/",
          "height": 34
        },
        "outputId": "25cc4a68-c331-4a47-a8b6-cbb6bae09041"
      },
      "cell_type": "code",
      "source": [
        "test_df.target.sum()/test_df.shape[0]"
      ],
      "execution_count": 11,
      "outputs": [
        {
          "output_type": "execute_result",
          "data": {
            "text/plain": [
              "0.10032"
            ]
          },
          "metadata": {
            "tags": []
          },
          "execution_count": 11
        }
      ]
    },
    {
      "metadata": {
        "id": "teW6_4YQyB95",
        "colab_type": "code",
        "colab": {}
      },
      "cell_type": "code",
      "source": [
        "train_features = train.drop(['target', 'ID_code'], axis=1)\n",
        "train_targets = train['target']\n",
        "test_features = test.drop(['ID_code'], axis=1)"
      ],
      "execution_count": 0,
      "outputs": []
    },
    {
      "metadata": {
        "id": "oHJ452sbyHss",
        "colab_type": "code",
        "colab": {}
      },
      "cell_type": "code",
      "source": [
        "X_train, X_test, y_train, y_test = train_test_split(train_features, train_targets, test_size = 0.25, random_state = 2019)"
      ],
      "execution_count": 0,
      "outputs": []
    },
    {
      "metadata": {
        "id": "2JR1Sg5TyRAH",
        "colab_type": "code",
        "colab": {}
      },
      "cell_type": "code",
      "source": [
        "# Feature Scaling\n",
        "from sklearn.preprocessing import StandardScaler\n",
        "sc = StandardScaler()\n",
        "X_train = sc.fit_transform(X_train)\n",
        "X_test = sc.transform(X_test)"
      ],
      "execution_count": 0,
      "outputs": []
    },
    {
      "metadata": {
        "id": "qMWy5FXoyTDJ",
        "colab_type": "code",
        "colab": {}
      },
      "cell_type": "code",
      "source": [
        "test_features = sc.transform(test_features)"
      ],
      "execution_count": 0,
      "outputs": []
    },
    {
      "metadata": {
        "id": "kmYax7-uv_p3",
        "colab_type": "code",
        "colab": {}
      },
      "cell_type": "code",
      "source": [
        "# Add RUC metric to monitor NN\n",
        "from keras import backend as K\n",
        "\n",
        "def auc(y_true, y_pred):\n",
        "    auc = tf.metrics.auc(y_true, y_pred)[1]\n",
        "    K.get_session().run(tf.local_variables_initializer())\n",
        "    return auc"
      ],
      "execution_count": 0,
      "outputs": []
    },
    {
      "metadata": {
        "id": "vDEQPmy0yW7G",
        "colab_type": "code",
        "colab": {}
      },
      "cell_type": "code",
      "source": [
        "# Build ANN\n",
        "from keras.layers.core import Dense\n",
        "from keras import regularizers\n",
        "from keras.layers import Dropout"
      ],
      "execution_count": 0,
      "outputs": []
    },
    {
      "metadata": {
        "id": "3QYanhHs-jl1",
        "colab_type": "code",
        "colab": {}
      },
      "cell_type": "code",
      "source": [
        "from keras.constraints import max_norm"
      ],
      "execution_count": 0,
      "outputs": []
    },
    {
      "metadata": {
        "id": "f5REejCNydg4",
        "colab_type": "code",
        "colab": {
          "base_uri": "https://localhost:8080/",
          "height": 34
        },
        "outputId": "354bbbaf-c7f4-4e03-bf0f-bb3b0bc2cb8b"
      },
      "cell_type": "code",
      "source": [
        "input_dim = X_train.shape[1]\n",
        "input_dim"
      ],
      "execution_count": 61,
      "outputs": [
        {
          "output_type": "execute_result",
          "data": {
            "text/plain": [
              "200"
            ]
          },
          "metadata": {
            "tags": []
          },
          "execution_count": 61
        }
      ]
    },
    {
      "metadata": {
        "id": "wrM6t-9yyhsr",
        "colab_type": "code",
        "colab": {}
      },
      "cell_type": "code",
      "source": [
        "model = Sequential()"
      ],
      "execution_count": 0,
      "outputs": []
    },
    {
      "metadata": {
        "id": "StpWw78ZyyhC",
        "colab_type": "code",
        "colab": {
          "base_uri": "https://localhost:8080/",
          "height": 408
        },
        "outputId": "c9b75683-a4d9-4033-b468-a0d18bfaa8c9"
      },
      "cell_type": "code",
      "source": [
        "# Input layer\n",
        "#model.add(Dense(units = 200, activation = \"relu\", input_dim = input_dim, kernel_initializer = \"uniform\", kernel_regularizer=regularizers.l2(0.005)))\n",
        "model.add(Dense(units = 200, activation = \"relu\", input_dim = input_dim, kernel_initializer = \"normal\", kernel_regularizer=regularizers.l2(0.005), \n",
        "                kernel_constraint = max_norm(5.)))\n",
        "# Add dropout regularization\n",
        "model.add(Dropout(rate=0.2))\n",
        "\n",
        "# First hidden layer\n",
        "model.add(Dense(units = 200, activation='relu', kernel_regularizer=regularizers.l2(0.005), kernel_constraint=max_norm(5)))\n",
        "# Add dropout regularization\n",
        "model.add(Dropout(rate=0.2))\n",
        "\n",
        "#input_dim=input_dim\n",
        "\n",
        "# Second hidden layer\n",
        "model.add(Dense(100, activation='relu', kernel_regularizer=regularizers.l2(0.005), kernel_constraint=max_norm(5)))\n",
        "# Add dropout regularization\n",
        "model.add(Dropout(rate=0.1))\n",
        "\n",
        "# Third hidden layer\n",
        "model.add(Dense(50, activation='tanh', kernel_regularizer=regularizers.l2(0.005), kernel_constraint=max_norm(5)))\n",
        "# Add dropout regularization\n",
        "#model.add(Dropout(rate=0.1))\n",
        "\n",
        "# Fourth hidden layer\n",
        "#model.add(Dense(25, activation='tanh', kernel_regularizer=regularizers.l2(0.005)))\n",
        "# Add dropout regularization\n",
        "#model.add(Dropout(rate=0.1))\n",
        "\n",
        "# Output layer\n",
        "model.add(layers.Dense(units = 1, activation='sigmoid'))\n",
        "\n",
        "#model.compile(loss='binary_crossentropy', optimizer='rmsprop', metrics=['accuracy'])\n",
        "model.compile(loss='binary_crossentropy', optimizer='adam', metrics=['accuracy', auc])\n",
        "model.summary()"
      ],
      "execution_count": 94,
      "outputs": [
        {
          "output_type": "stream",
          "text": [
            "_________________________________________________________________\n",
            "Layer (type)                 Output Shape              Param #   \n",
            "=================================================================\n",
            "dense_81 (Dense)             (None, 200)               40200     \n",
            "_________________________________________________________________\n",
            "dropout_63 (Dropout)         (None, 200)               0         \n",
            "_________________________________________________________________\n",
            "dense_82 (Dense)             (None, 200)               40200     \n",
            "_________________________________________________________________\n",
            "dropout_64 (Dropout)         (None, 200)               0         \n",
            "_________________________________________________________________\n",
            "dense_83 (Dense)             (None, 100)               20100     \n",
            "_________________________________________________________________\n",
            "dropout_65 (Dropout)         (None, 100)               0         \n",
            "_________________________________________________________________\n",
            "dense_84 (Dense)             (None, 50)                5050      \n",
            "_________________________________________________________________\n",
            "dense_85 (Dense)             (None, 1)                 51        \n",
            "=================================================================\n",
            "Total params: 105,601\n",
            "Trainable params: 105,601\n",
            "Non-trainable params: 0\n",
            "_________________________________________________________________\n"
          ],
          "name": "stdout"
        }
      ]
    },
    {
      "metadata": {
        "id": "4H8A2ddX2AYk",
        "colab_type": "code",
        "colab": {
          "base_uri": "https://localhost:8080/",
          "height": 207
        },
        "outputId": "da707fcb-4ce9-4167-87c2-9ca983cfea71"
      },
      "cell_type": "code",
      "source": [
        "#batch_size = 20,\n",
        "model.fit(X_train, y_train, batch_size = 10, epochs = 4, validation_data = (X_test, y_test))"
      ],
      "execution_count": 95,
      "outputs": [
        {
          "output_type": "stream",
          "text": [
            "Train on 150000 samples, validate on 50000 samples\n",
            "Epoch 1/4\n",
            "150000/150000 [==============================] - 174s 1ms/step - loss: 0.3283 - acc: 0.9034 - auc: 0.7962 - val_loss: 0.2847 - val_acc: 0.9086 - val_auc: 0.8146\n",
            "Epoch 2/4\n",
            "150000/150000 [==============================] - 149s 991us/step - loss: 0.2833 - acc: 0.9048 - auc: 0.8163 - val_loss: 0.2733 - val_acc: 0.9101 - val_auc: 0.8183\n",
            "Epoch 3/4\n",
            "150000/150000 [==============================] - 148s 988us/step - loss: 0.2806 - acc: 0.9048 - auc: 0.8197 - val_loss: 0.2744 - val_acc: 0.9081 - val_auc: 0.8204\n",
            "Epoch 4/4\n",
            "150000/150000 [==============================] - 149s 994us/step - loss: 0.2795 - acc: 0.9045 - auc: 0.8208 - val_loss: 0.2805 - val_acc: 0.9094 - val_auc: 0.8205\n"
          ],
          "name": "stdout"
        },
        {
          "output_type": "execute_result",
          "data": {
            "text/plain": [
              "<keras.callbacks.History at 0x7f4d53228a20>"
            ]
          },
          "metadata": {
            "tags": []
          },
          "execution_count": 95
        }
      ]
    },
    {
      "metadata": {
        "id": "0vNBYn9Vm8Qz",
        "colab_type": "code",
        "colab": {}
      },
      "cell_type": "code",
      "source": [
        "# Compute roc\n",
        "from sklearn.metrics import roc_auc_score"
      ],
      "execution_count": 0,
      "outputs": []
    },
    {
      "metadata": {
        "id": "p1_Qq68SsGJz",
        "colab_type": "code",
        "colab": {
          "base_uri": "https://localhost:8080/",
          "height": 34
        },
        "outputId": "24e8f493-c240-43d9-c58a-42aab8a0c858"
      },
      "cell_type": "code",
      "source": [
        "y_pred = model.predict_proba(X_test)\n",
        "roc_auc_score(y_test, y_pred)"
      ],
      "execution_count": 96,
      "outputs": [
        {
          "output_type": "execute_result",
          "data": {
            "text/plain": [
              "0.8392294351630342"
            ]
          },
          "metadata": {
            "tags": []
          },
          "execution_count": 96
        }
      ]
    },
    {
      "metadata": {
        "id": "Z5yI8jW_2SVS",
        "colab_type": "code",
        "colab": {}
      },
      "cell_type": "code",
      "source": [
        "def predict_and_save(model, filename):\n",
        "  id_code_test = test['ID_code']\n",
        "  # Make predicitions\n",
        "  pred = model.predict(test_features)\n",
        "  pred_ = pred[:,0]\n",
        "  fn = filename + \".csv\"\n",
        "  # To CSV\n",
        "  foo = pd.DataFrame({\"ID_code\" : id_code_test, \"target\" : pred_}).to_csv(fn, index = False, header = True)"
      ],
      "execution_count": 0,
      "outputs": []
    },
    {
      "metadata": {
        "id": "nSuKN_vXG7Cy",
        "colab_type": "code",
        "colab": {}
      },
      "cell_type": "code",
      "source": [
        "predict_and_save(model, \"units_200_hidden_1_regularized_drop10\")"
      ],
      "execution_count": 0,
      "outputs": []
    }
  ]
}