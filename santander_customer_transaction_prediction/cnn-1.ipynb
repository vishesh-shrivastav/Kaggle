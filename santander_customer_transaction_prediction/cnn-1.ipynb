{
 "cells": [
  {
   "cell_type": "code",
   "execution_count": 1,
   "metadata": {
    "_cell_guid": "b1076dfc-b9ad-4769-8c92-a6c4dae69d19",
    "_uuid": "8f2839f25d086af736a60e9eeb907d3b93b6e0e5"
   },
   "outputs": [
    {
     "name": "stderr",
     "output_type": "stream",
     "text": [
      "Using TensorFlow backend.\n"
     ]
    }
   ],
   "source": [
    "import numpy as np\n",
    "import pandas as pd\n",
    "import os\n",
    "import tensorflow as tf\n",
    "from sklearn.model_selection import train_test_split\n",
    "from sklearn.preprocessing import StandardScaler\n",
    "from keras import layers\n",
    "from keras import backend as K\n",
    "from keras import regularizers\n",
    "from keras.constraints import max_norm\n",
    "from keras.models import Sequential\n",
    "from keras.callbacks import EarlyStopping\n",
    "from keras.models import load_model\n",
    "from keras.models import Model\n",
    "from keras.initializers import glorot_uniform\n",
    "from keras.layers import Input,Dense,Activation,ZeroPadding2D,BatchNormalization,Flatten,Conv2D,AveragePooling2D,MaxPooling2D,Dropout\n",
    "from sklearn import preprocessing\n",
    "import matplotlib.pyplot as plt\n",
    "from sklearn.metrics import roc_curve\n",
    "from sklearn.metrics import auc\n",
    "from sklearn.metrics import roc_auc_score"
   ]
  },
  {
   "cell_type": "code",
   "execution_count": 2,
   "metadata": {
    "_uuid": "04ea2acc666a7221d25477a64d570ed6a4ed6a5d"
   },
   "outputs": [],
   "source": [
    "# Import data\n",
    "train = pd.read_csv('../input/train.csv')\n",
    "test = pd.read_csv('../input/test.csv')"
   ]
  },
  {
   "cell_type": "code",
   "execution_count": 3,
   "metadata": {
    "_cell_guid": "79c7e3d0-c299-4dcb-8224-4455121ee9b0",
    "_uuid": "d629ff2d2480ee46fbb7e2d37f6b5fab8052498a"
   },
   "outputs": [],
   "source": [
    "train_features = train.drop(['target', 'ID_code'], axis=1)\n",
    "train_targets = train['target']\n",
    "test_features = test.drop(['ID_code'], axis=1)"
   ]
  },
  {
   "cell_type": "code",
   "execution_count": 4,
   "metadata": {
    "_uuid": "1f296f15a70037d048f29966615d485dbe01d750"
   },
   "outputs": [],
   "source": [
    "# Feature Scaling\n",
    "from sklearn.preprocessing import StandardScaler\n",
    "sc = StandardScaler()\n",
    "X = sc.fit_transform(train_features.values)\n",
    "y = train_targets.values\n",
    "#X_test = sc.transform(X_test)\n",
    "#test_features = sc.transform(test_features)"
   ]
  },
  {
   "cell_type": "code",
   "execution_count": 5,
   "metadata": {
    "_uuid": "d340e1a4e8a46a2829e18421bffc19a30bce07e6"
   },
   "outputs": [],
   "source": [
    "# Training & test stratified split\n",
    "X_train, X_valid, y_train, y_valid = train_test_split(X, y, stratify = y, test_size = 0.10)"
   ]
  },
  {
   "cell_type": "code",
   "execution_count": 6,
   "metadata": {
    "_uuid": "cc18ec892b23e2a566d77ea2effd73d780b63a0d"
   },
   "outputs": [
    {
     "name": "stdout",
     "output_type": "stream",
     "text": [
      "(180000, 10, 10, 2)\n",
      "(20000, 10, 10, 2)\n"
     ]
    }
   ],
   "source": [
    "# Reshape\n",
    "X_train = np.reshape(X_train,(180000,10,10,2))\n",
    "X_valid = np.reshape(X_valid,(20000,10,10,2))\n",
    "print(X_train.shape)\n",
    "print(X_valid.shape)"
   ]
  },
  {
   "cell_type": "code",
   "execution_count": 7,
   "metadata": {
    "_uuid": "e55538411fffef053b42e6220c02d5c6399bc12f"
   },
   "outputs": [],
   "source": [
    "# Model training        \n",
    "def Convnet(input_shape = (10,10,2),classes = 1):\n",
    "\n",
    "    X_input = Input(input_shape)\n",
    " \n",
    "    # Stage 1\n",
    "    X = Conv2D(64,kernel_size = (3,3),strides = (1,1),name = \"conv1\", kernel_initializer = glorot_uniform(seed = 0))(X_input)\n",
    "    #X = BatchNormalization()(X)\n",
    "    X = Activation(\"tanh\")(X)\n",
    "    x = Dropout(rate=0.2)(X)\n",
    "    # Stage 2\n",
    "    X = Conv2D(128,kernel_size=(2,2),strides=(1,1),name=\"conv2\",kernel_initializer=glorot_uniform(seed=0))(x)\n",
    "    #X = BatchNormalization()(X)\n",
    "    X = Activation(\"tanh\")(X)\n",
    "    x = Dropout(rate=0.1)(X)\n",
    "    X = Conv2D(128,kernel_size=(3,3),strides=(2,2),name=\"conv3\",kernel_initializer=glorot_uniform(seed=0))(x)\n",
    "    #X = BatchNormalization()(X)\n",
    "    X = Activation(\"tanh\")(X)\n",
    "    x = Dropout(rate=0.1)(X)\n",
    "    X = Conv2D(256,kernel_size=(2,2),strides=(1,1),name=\"conv4\",kernel_initializer=glorot_uniform(seed=0))(x)\n",
    "    #X = BatchNormalization()(X)\n",
    "    X = Activation(\"tanh\")(X)\n",
    "    x = Dropout(rate=0.1)(X)\n",
    "    # Stage 3\n",
    "    X = Conv2D(64,kernel_size=(2,2),strides=(2,2),name=\"conv5\",kernel_initializer=glorot_uniform(seed=0))(x)\n",
    "    #X = BatchNormalization()(X)\n",
    "    X = Activation(\"tanh\")(X)\n",
    " \n",
    "    X = Flatten()(X)\n",
    "    X = Dense(classes, activation='sigmoid')(X)\n",
    " \n",
    "\n",
    "    model = Model(inputs=X_input,outputs=X)\n",
    " \n",
    "    return model"
   ]
  },
  {
   "cell_type": "code",
   "execution_count": 8,
   "metadata": {
    "_uuid": "4857396b3f7149de95be8fa96a86a30a29d584cc"
   },
   "outputs": [],
   "source": [
    "model = Convnet()\n",
    "model.compile(loss='binary_crossentropy', optimizer='adam', metrics=['accuracy'])"
   ]
  },
  {
   "cell_type": "code",
   "execution_count": 9,
   "metadata": {
    "_uuid": "583bb7f680d8fcbbf90a227ad49ab4bbc756a64d"
   },
   "outputs": [],
   "source": [
    "earlystop = EarlyStopping(monitor='val_loss', mode='auto', patience=10, verbose=1)"
   ]
  },
  {
   "cell_type": "code",
   "execution_count": 10,
   "metadata": {
    "_uuid": "f1134d67901124706e490df82475b60ebda28f6b"
   },
   "outputs": [
    {
     "name": "stdout",
     "output_type": "stream",
     "text": [
      "Train on 180000 samples, validate on 20000 samples\n",
      "Epoch 1/300\n",
      "180000/180000 [==============================] - 25s 137us/step - loss: 0.6585 - acc: 0.5945 - val_loss: 0.4862 - val_acc: 0.8336\n",
      "Epoch 2/300\n",
      "180000/180000 [==============================] - 9s 51us/step - loss: 0.3824 - acc: 0.8723 - val_loss: 0.3842 - val_acc: 0.8995\n",
      "Epoch 3/300\n",
      "180000/180000 [==============================] - 9s 51us/step - loss: 0.3359 - acc: 0.8970 - val_loss: 0.2644 - val_acc: 0.9021\n",
      "Epoch 4/300\n",
      "180000/180000 [==============================] - 9s 51us/step - loss: 0.2830 - acc: 0.8938 - val_loss: 0.2555 - val_acc: 0.9068\n",
      "Epoch 5/300\n",
      "180000/180000 [==============================] - 9s 51us/step - loss: 0.2641 - acc: 0.9046 - val_loss: 0.2538 - val_acc: 0.9068\n",
      "Epoch 6/300\n",
      "180000/180000 [==============================] - 9s 51us/step - loss: 0.2546 - acc: 0.9071 - val_loss: 0.2427 - val_acc: 0.9089\n",
      "Epoch 7/300\n",
      "180000/180000 [==============================] - 9s 51us/step - loss: 0.2487 - acc: 0.9079 - val_loss: 0.2395 - val_acc: 0.9110\n",
      "Epoch 8/300\n",
      "180000/180000 [==============================] - 9s 51us/step - loss: 0.2453 - acc: 0.9096 - val_loss: 0.2354 - val_acc: 0.9124\n",
      "Epoch 9/300\n",
      "180000/180000 [==============================] - 9s 51us/step - loss: 0.2432 - acc: 0.9101 - val_loss: 0.2339 - val_acc: 0.9126\n",
      "Epoch 10/300\n",
      "180000/180000 [==============================] - 9s 51us/step - loss: 0.2404 - acc: 0.9115 - val_loss: 0.2337 - val_acc: 0.9125\n",
      "Epoch 11/300\n",
      "180000/180000 [==============================] - 9s 51us/step - loss: 0.2399 - acc: 0.9113 - val_loss: 0.2326 - val_acc: 0.9124\n",
      "Epoch 12/300\n",
      "180000/180000 [==============================] - 9s 51us/step - loss: 0.2382 - acc: 0.9121 - val_loss: 0.2331 - val_acc: 0.9125\n",
      "Epoch 13/300\n",
      "180000/180000 [==============================] - 9s 51us/step - loss: 0.2380 - acc: 0.9118 - val_loss: 0.2319 - val_acc: 0.9125\n",
      "Epoch 14/300\n",
      "180000/180000 [==============================] - 9s 51us/step - loss: 0.2374 - acc: 0.9123 - val_loss: 0.2323 - val_acc: 0.9128\n",
      "Epoch 15/300\n",
      "180000/180000 [==============================] - 9s 51us/step - loss: 0.2371 - acc: 0.9121 - val_loss: 0.2313 - val_acc: 0.9132\n",
      "Epoch 16/300\n",
      "180000/180000 [==============================] - 9s 51us/step - loss: 0.2368 - acc: 0.9124 - val_loss: 0.2315 - val_acc: 0.9129\n",
      "Epoch 17/300\n",
      "180000/180000 [==============================] - 9s 51us/step - loss: 0.2366 - acc: 0.9127 - val_loss: 0.2310 - val_acc: 0.9129\n",
      "Epoch 18/300\n",
      "180000/180000 [==============================] - 9s 51us/step - loss: 0.2360 - acc: 0.9129 - val_loss: 0.2312 - val_acc: 0.9139\n",
      "Epoch 19/300\n",
      "180000/180000 [==============================] - 9s 51us/step - loss: 0.2359 - acc: 0.9128 - val_loss: 0.2309 - val_acc: 0.9133\n",
      "Epoch 20/300\n",
      "180000/180000 [==============================] - 9s 51us/step - loss: 0.2358 - acc: 0.9127 - val_loss: 0.2309 - val_acc: 0.9137\n",
      "Epoch 21/300\n",
      "180000/180000 [==============================] - 9s 51us/step - loss: 0.2361 - acc: 0.9127 - val_loss: 0.2308 - val_acc: 0.9135\n",
      "Epoch 22/300\n",
      "180000/180000 [==============================] - 9s 51us/step - loss: 0.2356 - acc: 0.9127 - val_loss: 0.2306 - val_acc: 0.9139\n",
      "Epoch 23/300\n",
      "180000/180000 [==============================] - 9s 51us/step - loss: 0.2353 - acc: 0.9128 - val_loss: 0.2311 - val_acc: 0.9137\n",
      "Epoch 24/300\n",
      "180000/180000 [==============================] - 9s 51us/step - loss: 0.2349 - acc: 0.9128 - val_loss: 0.2307 - val_acc: 0.9136\n",
      "Epoch 25/300\n",
      "180000/180000 [==============================] - 9s 51us/step - loss: 0.2346 - acc: 0.9128 - val_loss: 0.2310 - val_acc: 0.9138\n",
      "Epoch 26/300\n",
      "180000/180000 [==============================] - 9s 51us/step - loss: 0.2349 - acc: 0.9129 - val_loss: 0.2308 - val_acc: 0.9138\n",
      "Epoch 27/300\n",
      "180000/180000 [==============================] - 9s 51us/step - loss: 0.2345 - acc: 0.9129 - val_loss: 0.2305 - val_acc: 0.9136\n",
      "Epoch 28/300\n",
      "180000/180000 [==============================] - 9s 51us/step - loss: 0.2351 - acc: 0.9129 - val_loss: 0.2306 - val_acc: 0.9135\n",
      "Epoch 29/300\n",
      "180000/180000 [==============================] - 9s 51us/step - loss: 0.2348 - acc: 0.9132 - val_loss: 0.2306 - val_acc: 0.9133\n",
      "Epoch 30/300\n",
      "180000/180000 [==============================] - 9s 51us/step - loss: 0.2344 - acc: 0.9132 - val_loss: 0.2311 - val_acc: 0.9135\n",
      "Epoch 31/300\n",
      "180000/180000 [==============================] - 9s 51us/step - loss: 0.2345 - acc: 0.9131 - val_loss: 0.2302 - val_acc: 0.9137\n",
      "Epoch 32/300\n",
      "180000/180000 [==============================] - 9s 51us/step - loss: 0.2342 - acc: 0.9132 - val_loss: 0.2304 - val_acc: 0.9135\n",
      "Epoch 33/300\n",
      "180000/180000 [==============================] - 9s 51us/step - loss: 0.2343 - acc: 0.9130 - val_loss: 0.2310 - val_acc: 0.9137\n",
      "Epoch 34/300\n",
      "180000/180000 [==============================] - 9s 51us/step - loss: 0.2341 - acc: 0.9130 - val_loss: 0.2306 - val_acc: 0.9137\n",
      "Epoch 35/300\n",
      "180000/180000 [==============================] - 9s 51us/step - loss: 0.2337 - acc: 0.9127 - val_loss: 0.2306 - val_acc: 0.9136\n",
      "Epoch 36/300\n",
      "180000/180000 [==============================] - 9s 51us/step - loss: 0.2338 - acc: 0.9128 - val_loss: 0.2310 - val_acc: 0.9136\n",
      "Epoch 37/300\n",
      "180000/180000 [==============================] - 9s 51us/step - loss: 0.2336 - acc: 0.9131 - val_loss: 0.2302 - val_acc: 0.9141\n",
      "Epoch 38/300\n",
      "180000/180000 [==============================] - 9s 51us/step - loss: 0.2335 - acc: 0.9131 - val_loss: 0.2312 - val_acc: 0.9136\n",
      "Epoch 39/300\n",
      "180000/180000 [==============================] - 9s 51us/step - loss: 0.2335 - acc: 0.9131 - val_loss: 0.2302 - val_acc: 0.9134\n",
      "Epoch 40/300\n",
      "180000/180000 [==============================] - 9s 51us/step - loss: 0.2332 - acc: 0.9134 - val_loss: 0.2301 - val_acc: 0.9136\n",
      "Epoch 41/300\n",
      "180000/180000 [==============================] - 9s 51us/step - loss: 0.2329 - acc: 0.9132 - val_loss: 0.2313 - val_acc: 0.9134\n",
      "Epoch 42/300\n",
      "180000/180000 [==============================] - 9s 51us/step - loss: 0.2330 - acc: 0.9137 - val_loss: 0.2303 - val_acc: 0.9133\n",
      "Epoch 43/300\n",
      "180000/180000 [==============================] - 9s 51us/step - loss: 0.2328 - acc: 0.9134 - val_loss: 0.2305 - val_acc: 0.9136\n",
      "Epoch 44/300\n",
      "180000/180000 [==============================] - 9s 51us/step - loss: 0.2323 - acc: 0.9136 - val_loss: 0.2306 - val_acc: 0.9136\n",
      "Epoch 45/300\n",
      "180000/180000 [==============================] - 9s 51us/step - loss: 0.2321 - acc: 0.9133 - val_loss: 0.2304 - val_acc: 0.9136\n",
      "Epoch 46/300\n",
      "180000/180000 [==============================] - 9s 51us/step - loss: 0.2320 - acc: 0.9138 - val_loss: 0.2303 - val_acc: 0.9134\n",
      "Epoch 47/300\n",
      "180000/180000 [==============================] - 9s 51us/step - loss: 0.2321 - acc: 0.9136 - val_loss: 0.2307 - val_acc: 0.9136\n",
      "Epoch 48/300\n",
      "180000/180000 [==============================] - 9s 51us/step - loss: 0.2313 - acc: 0.9137 - val_loss: 0.2308 - val_acc: 0.9133\n",
      "Epoch 49/300\n",
      "180000/180000 [==============================] - 9s 51us/step - loss: 0.2317 - acc: 0.9137 - val_loss: 0.2304 - val_acc: 0.9137\n",
      "Epoch 50/300\n",
      "180000/180000 [==============================] - 9s 51us/step - loss: 0.2314 - acc: 0.9137 - val_loss: 0.2309 - val_acc: 0.9132\n",
      "Epoch 00050: early stopping\n"
     ]
    }
   ],
   "source": [
    "history = model.fit(X_train, y_train, epochs=300, batch_size=50000, validation_data=(X_valid, y_valid), callbacks=[earlystop])"
   ]
  },
  {
   "cell_type": "code",
   "execution_count": 11,
   "metadata": {
    "_uuid": "b879515479f869f35c010969f34b5a44d199143c"
   },
   "outputs": [],
   "source": [
    "#--AUC\n",
    "y_pred_keras = model.predict(X_valid).ravel()"
   ]
  },
  {
   "cell_type": "code",
   "execution_count": 12,
   "metadata": {
    "_uuid": "c8165c6afdfa41fc62f80304992fb0fef0d3704e"
   },
   "outputs": [],
   "source": [
    "fpr_keras, tpr_keras, thresholds_keras = roc_curve(y_valid, y_pred_keras)\n",
    "auc_keras = auc(fpr_keras, tpr_keras)"
   ]
  },
  {
   "cell_type": "code",
   "execution_count": 13,
   "metadata": {
    "_uuid": "08224e26068b593637e33ffc9c1b45654eab4715"
   },
   "outputs": [
    {
     "data": {
      "text/plain": [
       "0.8646032621771631"
      ]
     },
     "execution_count": 13,
     "metadata": {},
     "output_type": "execute_result"
    }
   ],
   "source": [
    "auc_keras"
   ]
  },
  {
   "cell_type": "code",
   "execution_count": 14,
   "metadata": {
    "_uuid": "677b26e55b2551c5bf46fa56273de243244ef025"
   },
   "outputs": [
    {
     "data": {
      "text/plain": [
       "0.8646032621771631"
      ]
     },
     "execution_count": 14,
     "metadata": {},
     "output_type": "execute_result"
    }
   ],
   "source": [
    "roc_auc_score(y_valid, y_pred_keras)"
   ]
  },
  {
   "cell_type": "code",
   "execution_count": 15,
   "metadata": {
    "_uuid": "40caef27742e7de837698a42e52d111af91f0444"
   },
   "outputs": [],
   "source": [
    "X_test = sc.transform(test_features.values)\n",
    "X_test = np.reshape(X_test,(200000,10,10,2)) \n",
    "prediction = model.predict(X_test)"
   ]
  },
  {
   "cell_type": "code",
   "execution_count": 16,
   "metadata": {
    "_uuid": "3b1bb87c90c6388a2483b9d5fc2d1155511afd49"
   },
   "outputs": [],
   "source": [
    "result = pd.DataFrame({\"ID_code\": test.ID_code.values})\n",
    "result[\"target\"] = prediction\n",
    "result.to_csv(\"submission.csv\", index=False)"
   ]
  },
  {
   "cell_type": "code",
   "execution_count": 17,
   "metadata": {
    "_uuid": "591caf6000fc8f4c7f066a844fff1d5943a581a8"
   },
   "outputs": [],
   "source": [
    "model.save('./cnn_model1.h5')"
   ]
  },
  {
   "cell_type": "code",
   "execution_count": 18,
   "metadata": {
    "_uuid": "a01b75feb807ca58d5335ca0c36bba63f1484152"
   },
   "outputs": [],
   "source": [
    "# Save model architecture\n",
    "with open('cnn_model1_architecture.json', 'w') as f:\n",
    "    f.write(model.to_json())"
   ]
  },
  {
   "cell_type": "code",
   "execution_count": 19,
   "metadata": {
    "_uuid": "0ca0d9a2e8a668bedd0d43a54e7344d518c0318f"
   },
   "outputs": [],
   "source": []
  }
 ],
 "metadata": {
  "kernelspec": {
   "display_name": "Python 3",
   "language": "python",
   "name": "python3"
  },
  "language_info": {
   "codemirror_mode": {
    "name": "ipython",
    "version": 3
   },
   "file_extension": ".py",
   "mimetype": "text/x-python",
   "name": "python",
   "nbconvert_exporter": "python",
   "pygments_lexer": "ipython3",
   "version": "3.6.6"
  }
 },
 "nbformat": 4,
 "nbformat_minor": 1
}
